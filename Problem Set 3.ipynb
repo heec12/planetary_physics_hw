{
 "cells": [
  {
   "cell_type": "markdown",
   "metadata": {},
   "source": [
    "# 1\n",
    "## (a)\n",
    "\n",
    "$\\begin{align}\n",
    "L_{total} &= L_{Earth} + L_{Moon} \\\\\n",
    "          & L_{Earth} = I_e \\Omega_e = \\frac{1}{3}M_e {R_e}^2 \\Omega\\\\\n",
    "          & L_{Moon} = M_m r^2 \\omega = M_m \\sqrt{G M_e r}\n",
    "\\end{align}$\n",
    "\n",
    "Angular momentum of Earth-moon system is conserved.\n",
    "\n",
    "$\\begin{align}\n",
    "L_{total} &= \\frac{1}{3}M_e {R_e}^2 \\Omega + M_m \\sqrt{G M_e r}\\\\\n",
    "          &= \\frac{1}{3}M_e {R_e}^2 \\Omega_0 + \\frac{1}{81} M_e \\sqrt{G M_e 60 R_e} \\: \\big(\\because M_m = \\frac{1}{81}M_e, r = 60 R_e \\big)\n",
    "\\end{align}$\n",
    "\n",
    "$\\begin{align}\n",
    "\\frac{1}{3}M_e {R_e}^2 \\Omega = L_{total} - M_m \\sqrt{G M_e r}\\\\\n",
    "\\end{align}$\n",
    "\n",
    "$\\begin{align}\n",
    "\\Omega &= (L_{total} - M_m \\sqrt{G M_e r}) \\frac{3}{M_e {R_e}^2}\\\\\n",
    "       &= \\big( \\frac{1}{3}M_e {R_e}^2 \\Omega_0 + \\frac{1}{81} M_e \\sqrt{G M_e 60 R_e} - M_m \\sqrt{G M_e r} \\big) \\frac{3}{M_e {R_e}^2}\\\\\n",
    "       &= \\Omega_0 + \\frac{3}{81}\\frac{\\sqrt{G M_e 60 R_e}}{{R_e}^2} - \\frac{3M_m \\sqrt{G M_e r}}{M_e R_e^2}\\\\\n",
    "       &= \\Omega_0 + \\frac{3}{81}\\frac{\\sqrt{G M_e 60 R_e}}{{R_e}^2} - \\frac{3M_e \\sqrt{G M_e r}}{81 M_e R_e^2}\\\\\n",
    "       &= \\Omega_0 + \\frac{3}{81}\\frac{\\sqrt{GM_e}}{{R_e}^2} (\\sqrt{60R_e}-\\sqrt{r})\n",
    "\\end{align}$\n",
    "\n",
    "## (c)\n",
    "\n",
    "$\\begin{align}\n",
    "\\omega = 30 R_e\\\\\n",
    "\\end{align}$\n",
    "\n",
    "$\\begin{equation}\n",
    "\\begin{split}\n",
    "L_{total} &= \\frac{1}{3}M_e {R_e}^2 \\Omega + M_m r^2 30 R_e\\\\\n",
    "          &= \\frac{1}{3}M_e {R_e}^2 \\Omega_0 + \\frac{1}{81} M_e \\cdot 3600 \\cdot {R_e}^2 \\cdot 30 R_e\\\\\n",
    "          &= \\frac{1}{3}M_e {R_e}^2 (\\Omega_0 + 4 \\times 10^3 R_e)\n",
    "\\end{split}\n",
    "\\end{equation}$\n",
    "\n",
    "$\\begin{align}\n",
    "\\frac{1}{3}M_e {R_e}^2 \\Omega &= L_{total} - M_m r^2 30 R_e\\\\\n",
    "\\Omega &= \\Omega_0 + 4000 R_e - \\frac{90 M_m r^2 R_e}{M_e {R_e}^2}\\\\\n",
    "       &= \\Omega_0 + 4000 R_e - \\frac{90 M_m r^2}{M_e R_e}\\\\\n",
    "       &= \\Omega_0 + 2000 R_e\\\\\n",
    "\\frac{2 \\pi}{\\Omega} &= \\frac{2 \\pi}{\\Omega_0 + 2000 R_e}\n",
    "\\end{align}$"
   ]
  },
  {
   "cell_type": "code",
   "execution_count": 1,
   "metadata": {},
   "outputs": [],
   "source": [
    "import numpy as np\n",
    "import math"
   ]
  },
  {
   "cell_type": "code",
   "execution_count": 20,
   "metadata": {},
   "outputs": [
    {
     "name": "stdout",
     "output_type": "stream",
     "text": [
      "Length of an Earth day = 0.0031317539583613544 day\n"
     ]
    }
   ],
   "source": [
    "R_e = 6.371e3 #km\n",
    "omega0 = 2*np.pi*R_e/1 #1/day\n",
    "\n",
    "Earth_day = 2*np.pi*R_e/(omega0+2000*R_e)\n",
    "print('Length of an Earth day =',Earth_day, 'day')"
   ]
  },
  {
   "cell_type": "markdown",
   "metadata": {},
   "source": [
    "## (d)\n",
    "\n",
    "$\\begin{align}\n",
    "\\omega &= \\frac{2\\pi}{t} = 30 R_e\\\\\n",
    "     t &= \\frac{2\\pi}{30 R_e}\n",
    "\\end{align}$"
   ]
  },
  {
   "cell_type": "code",
   "execution_count": null,
   "metadata": {},
   "outputs": [],
   "source": []
  },
  {
   "cell_type": "markdown",
   "metadata": {},
   "source": [
    "## (e)\n",
    "The total energy of the Earth-moon system is,\n",
    "\n",
    "$\\begin{equation}\n",
    "\\begin{split}\n",
    "L_{total} &= \\frac{1}{2}I \\Omega^2 + \\frac{1}{2}mr^2\\omega^2 - \\frac{GM_em}{r}\\\\\n",
    "          &= \\frac{1}{2}I \\Omega^2 + \\frac{1}{2}mr^2\\frac{GM_e}{r^3}-\\frac{GM_em}{r} \\: \\big(\\because \\omega^2 = \\frac{GM_e}{r^3} \\big)\\\\\n",
    "          &= \\frac{1}{2}I \\Omega^2 - \\frac{GM_em}{2r}\\\\\n",
    "          &= \\frac{1}{2}\\big( I \\Omega^2 - \\frac{GM_em}{r} \\big)\\\\\n",
    "          &= \\frac{M_e}{2}\\big( \\frac{{R_e}^2\\Omega^2}{3} - \\frac{Gm}{r} \\big)\n",
    "\\end{split}\n",
    "\\end{equation}$\n",
    "\n",
    "By plugging in numbers,"
   ]
  },
  {
   "cell_type": "code",
   "execution_count": 18,
   "metadata": {},
   "outputs": [
    {
     "name": "stdout",
     "output_type": "stream",
     "text": [
      "59011.77779083593\n"
     ]
    }
   ],
   "source": [
    "Re = 6.371e6 #m\n",
    "r = 60*Re #m\n",
    "Me = 6e24 #kg\n",
    "m = Me/81 #kg\n",
    "G = 6.67408e-11 #m3/kg/s2\n",
    "Omega = 7.2921e-5 #rad/s\n",
    "\n",
    "print((Re**2*Omega**2)/3 - G*m/r)"
   ]
  },
  {
   "cell_type": "markdown",
   "metadata": {},
   "source": [
    "Current total energy of the system is positive. \n",
    "\n",
    "If the moon orbit expands and Earth's rotation slow down at the same same amount ($\\omega \\uparrow, \\Omega \\downarrow$),\n",
    "\n",
    "$\\begin{equation}\n",
    "\\begin{split}\n",
    "L_{total} &= \\frac{1}{2}I \\Omega^2 + \\frac{1}{2}mr^2\\omega^2 - \\frac{GM_em}{r}\\\\\n",
    "\\end{split}\n",
    "\\end{equation}$\n",
    "\n",
    "comparing the values of $\\frac{1}{2}I$ and $\\frac{1}{2}mr^2$ is enough to predict the energy evolution of the system.\n",
    "\n",
    "$\\begin{equation}\n",
    "\\begin{split}\n",
    "I &= \\frac{1}{3}M_e {R_e}^2\\\\\n",
    "\\end{split}\n",
    "\\end{equation}$\n",
    "\n",
    "$\\begin{equation}\n",
    "\\begin{split}\n",
    "mr^2 &= \\frac{1}{81}M_e \\cdot 60 \\cdot 60 {R_e}^2\\\\\n",
    "     &= \\frac{4}{9}10^2 M_e {R_e}^2\n",
    "\\end{split}\n",
    "\\end{equation}$\n",
    "\n",
    "Since $\\omega$ term increase more rapidly than $\\Omega$ term decreasing, energy of the system will increase over time."
   ]
  },
  {
   "cell_type": "markdown",
   "metadata": {},
   "source": [
    "# 2\n",
    "## (a)\n",
    "\n",
    "When $r = r_{Roche}$, $|F_{tide}|-|F_{bind}|$ should be 0.\n",
    "\n",
    "$\\begin{align}\n",
    "\\frac{3GM\\delta m a}{r^3} &=\\frac{Gm \\delta m}{a^2}\n",
    "\\end{align}$\n",
    "\n",
    "$\\begin{equation}\n",
    "\\begin{split}\n",
    "3Ma^3 &= mr^3\\\\\n",
    "r^3& =\\frac{3M}{m}a^3\\\\\n",
    "r & =\\bigg(\\frac{3M}{m}\\bigg)^{\\frac{1}{3}} a\\\\\n",
    "& =\\bigg(\\frac{3\\cdot \\frac{4}{3} \\pi R^3 \\rho_p}{\\frac{4}{3} \\pi a^3 \\rho_s}\\bigg)^{\\frac{1}{3}} a\\\\\n",
    "& =\\bigg(\\frac{3\\rho_p}{\\rho_s}\\bigg)^{\\frac{1}{3}} R\n",
    "\\end{split}\n",
    "\\end{equation}$\n",
    "\n",
    "Therefore, Roche limit is $\\big(\\frac{3\\rho_p}{\\rho_s}\\big)^{\\frac{1}{3}} R$\n",
    "\n",
    "## (b)\n",
    "\n",
    "Since $\\begin{align}\n",
    "r^3 = \\frac{3\\rho_p}{\\rho_s} R^3\n",
    "\\end{align}$,\n",
    "$\\begin{align}\n",
    "\\frac{\\rho_s}{\\rho_p} &=\\frac{3R^3}{r^3}\n",
    "\\end{align}$\n",
    "\n",
    "## (c)"
   ]
  },
  {
   "cell_type": "code",
   "execution_count": 10,
   "metadata": {},
   "outputs": [
    {
     "name": "stdout",
     "output_type": "stream",
     "text": [
      "Roche limit of our Moon in orbit around the Earth =  10608.42749756471 (km)\n"
     ]
    }
   ],
   "source": [
    "# Given values\n",
    "M = 5.972e24 #kg\n",
    "m = M/81 #kg\n",
    "R = 6371 #km\n",
    "a = 1700 #km\n",
    "\n",
    "# Roche limit equation from 3(a)\n",
    "r = (3*M/m)**(1/3) * a\n",
    "print('Roche limit of our Moon in orbit around the Earth = ',r,'(km)')"
   ]
  },
  {
   "cell_type": "markdown",
   "metadata": {},
   "source": [
    "# 3\n",
    "## (a)\n",
    "\n",
    "$\\begin{equation}\n",
    "\\begin{split}\n",
    "M& =M_c + M_m\\\\\n",
    " & =\\rho_c \\frac{4}{3} \\pi {R_c}^3 + \\rho_m \\frac{4}{3} \\pi (R^3 - {R_c}^3)\\\\\n",
    "\\end{split}\n",
    "\\end{equation}$\n",
    "\n",
    "### i) Core\n",
    "$\\begin{align}\n",
    "M_c& =f M\\\\\n",
    "f M& =\\rho_c \\frac{4}{3} \\pi {R_c}^3\\\\\n",
    "{R_c}^3& =\\frac{3fM}{4 \\pi \\rho_c}\n",
    "\\end{align}$\n",
    "### ii) Mantle\n",
    "$\\begin{align}\n",
    "M_m& =(1-f) M\\\\\n",
    "(1-f) M& =\\rho_m \\frac{4}{3} \\pi (R^3 - {R_c}^3)\\\\\n",
    "R^3 - {R_c}^3& =\\frac{3M(1-f)}{4 \\pi \\rho_m}\\\\\n",
    "\\end{align}$ \n",
    "\n",
    "$\\begin{equation}\n",
    "\\begin{split}\n",
    "R^3& ={R_c}^3 + \\frac{3M(1-f)}{4 \\pi \\rho_m}\\\\\n",
    " & =\\frac{3M}{4\\pi}\\bigg(\\frac{f}{\\rho_c}+\\frac{1-f}{\\rho_m} \\bigg)\\\\\n",
    "R& = \\bigg[ \\frac{3M}{4\\pi}\\bigg(\\frac{f}{\\rho_c}+\\frac{1-f}{\\rho_m} \\bigg) \\bigg]^{\\frac{1}{3}}\\\\\n",
    "\\end{split}\n",
    "\\end{equation}$\n",
    "\n",
    "## (b)"
   ]
  },
  {
   "cell_type": "code",
   "execution_count": 2,
   "metadata": {},
   "outputs": [],
   "source": [
    "# Constants\n",
    "rho_c = 7500 #kg/m3\n",
    "rho_m = 3300 #kg/m3\n",
    "M_e = 6e24 #kg"
   ]
  },
  {
   "cell_type": "code",
   "execution_count": 9,
   "metadata": {},
   "outputs": [
    {
     "name": "stdout",
     "output_type": "stream",
     "text": [
      "Radius of entirely silicate planet =  16312338.828847697 (m)\n",
      "Radius of entirely iron planet =  12407009.81798799 (m)\n",
      "1.3147679471646476\n"
     ]
    }
   ],
   "source": [
    "# Radius of single layer model\n",
    "M = 10*M_e\n",
    "R_si = (3*M/(4*np.pi*rho_m))**(1/3)\n",
    "print('Radius of entirely silicate planet = ',R_si,'(m)')\n",
    "R_fe = (3*M/(4*np.pi*rho_c))**(1/3)\n",
    "print('Radius of entirely iron planet = ',R_fe,'(m)')"
   ]
  }
 ],
 "metadata": {
  "kernelspec": {
   "display_name": "Python 3",
   "language": "python",
   "name": "python3"
  },
  "language_info": {
   "codemirror_mode": {
    "name": "ipython",
    "version": 3
   },
   "file_extension": ".py",
   "mimetype": "text/x-python",
   "name": "python",
   "nbconvert_exporter": "python",
   "pygments_lexer": "ipython3",
   "version": "3.6.4"
  }
 },
 "nbformat": 4,
 "nbformat_minor": 2
}
